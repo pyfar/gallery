{
 "cells": [
  {
   "cell_type": "markdown",
   "metadata": {},
   "source": [
    "# Fast Fourier Transform (FFT)\n",
    "The following gives background information that is helpful to understand how the Fast Fourier Transform (FFT) and the corresponding normalizations are defined in pyfar and how these are related to the concepts of energy and power signals."
   ]
  },
  {
   "cell_type": "markdown",
   "metadata": {},
   "source": [
    "\n",
    "## FFT definition\n",
    "The discrete Fourier transform (DFT) of an arbitrary, but band-limited signal $x(n)$ is defined as\n",
    "$$ X(k) = \\sum_{n=0}^{N-1} x(n) e^{-i 2 \\pi k \\frac{n}{N}}$$\n",
    "using a negative sign convention in the transform kernel $e^{-i 2 \\pi k \\frac{n}{N}}$, and normalized angular frequency $\\omega_k = 2 \\pi k / N$. Analogously, the inverse discrete Fourier transform (IDFT) is defined as\n",
    "\n",
    "$$ x(n) = \\frac{1}{N} \\sum_{k=0}^{N-1} X(k) e^{i2\\pi k \\frac{n}{N}}$$\n",
    "\n",
    "The *Fast Fourier Transform* denotes the efficient implementation of the DFT and IDFT.\n",
    "\n",
    "Note that real-valued time signals result in Fourier spectra with complex conjugate symmetry for negative and positive frequencies $X(k) = X(-k)^*$. In this case, the left-hand side of the spectrum can be discarded, and only the right-hand side needs to be saved."
   ]
  },
  {
   "cell_type": "markdown",
   "metadata": {},
   "source": [
    "## FFT normalizations\n",
    "Pyfar implements five normalizations  after [Ahrens at al. (2020)](http://www.aes.org/e-lib/browse.cfm?elib=20838) that can be applied to spectra after the DFT. The normalizations are implicitly used by the [pyfar.Signal class](https://pyfar.readthedocs.io/en/stable/classes/pyfar.audio.html#pyfar.classes.audio.Signal), and are available from [pyfar.dsp.fft.normalization](https://pyfar.readthedocs.io/en/stable/modules/pyfar.dsp.fft.html#pyfar.dsp.fft.normalization). For a Signal object `signal`, `signal.freq` contains the normalized spectrum according to `signal.fft_norm` and `signal.freq_raw` contains the raw spectrum without any normalization. **The time data (**`signal.time`**) does not change regardless of the normalization.**"
   ]
  },
  {
   "cell_type": "markdown",
   "metadata": {},
   "source": [
    "The following table shows the available normalizations and their definitions:\n",
    "\n",
    "| Normalization| Equation                                                                                                 |\n",
    "|-------------|----------------------------------------------------------------------------------------------------------|\n",
    "| `'none'`    | --                                                                                                       |\n",
    "| `'unitary'` | $X_{\\text{SS}}(k) = \\left\\{ \\begin{array}{ll} X(k) & \\forall k=0, k=\\frac{N}{2} \\\\ 2 X(k) & \\forall 0<k< \\frac{N}{2} \\end{array} \\right.$|\n",
    "| `'amplitude'` | $\\overline{X}_{\\text{SS}}(k) = \\frac{1}{N} X_{\\text{SS}}(k)$                                          |\n",
    "| `'rms'`       | $\\overline{X}_{RMS}(k) = \\left\\{ \\begin{array}{ll} \\frac{1}{\\sqrt{2}} \\overline{X}_{\\text{SS}}(k) & \\forall 0<k< \\frac{N}{2} \\\\ \\quad \\overline{X}_{\\text{SS}}(k) & \\forall k=0, k=\\frac{N}{2} \\end{array} \\right.$|\n",
    "| `'power'`     | $\\overline{\\overline{X}}_{\\text{SS}}(k) = \\lvert \\overline{X}_{\\text{RMS}}(k) \\lvert ^2$           |\n",
    "| `'psd'`       | $\\overline{\\overline{\\underline{X}}}_{\\text{SS}}(k) = \\frac{N}{f_s} \\overline{\\overline{X}}_{\\text{SS}}(k) = \\frac{N}{f_s} \\lvert \\overline{X}_{\\text{RMS}}(k) \\lvert ^2$|\n",
    "\n",
    "Note that the above formulation holds for real-valued signals with single-sided spectra $X_{\\text{SS}}(k)$. Hence, there are small differences in the definitions compared to the formulas written in [Ahrens et al. (2020)](http://www.aes.org/e-lib/browse.cfm?elib=20838)."
   ]
  },
  {
   "cell_type": "markdown",
   "metadata": {},
   "source": [
    "## Example signals\n",
    "Four signals with a length of 100 samples and a sampling rate of 10 kHz are used for illustrating the normalizations."
   ]
  },
  {
   "cell_type": "code",
   "execution_count": null,
   "metadata": {},
   "outputs": [],
   "source": [
    "import pyfar as pf\n",
    "import numpy as np\n",
    "import matplotlib.pyplot as plt\n",
    "\n",
    "%matplotlib inline\n",
    "\n",
    "# set number of samples and sampling rate\n",
    "n_samples = 1e3\n",
    "sampling_rate = 10e3"
   ]
  },
  {
   "cell_type": "markdown",
   "metadata": {},
   "source": [
    "An **impulse** ($x(0)=1$ and zero otherwise) with a constant spectrum.\n",
    "<!-- This is an energy signal, so the appropriate normalization is `'none'` (the default). -->"
   ]
  },
  {
   "cell_type": "code",
   "execution_count": null,
   "metadata": {},
   "outputs": [],
   "source": [
    "impulse = pf.signals.impulse(n_samples, sampling_rate=sampling_rate)"
   ]
  },
  {
   "cell_type": "markdown",
   "metadata": {},
   "source": [
    "A **fractional octave FIR filter** presenting a system with finite energy (e.g., a loudspeaker transfer function, a room impulse response, an HRTF ...).\n",
    "<!-- It is an energy signal, so the appropriate normalization is `'none'`. -->"
   ]
  },
  {
   "cell_type": "code",
   "execution_count": null,
   "metadata": {},
   "outputs": [],
   "source": [
    "fir = pf.dsp.filter.fractional_octave_bands(\n",
    "    impulse, num_fractions=1, freq_range=(500, 700))"
   ]
  },
  {
   "cell_type": "markdown",
   "metadata": {},
   "source": [
    "A **sine** signal with an amplitude of $1\\,\\text{Pa}$. It represents a discrete tone of which a snippet was recorded.\n",
    "<!-- Accordingly, it possess a finite power but infinite energy and is a power signal with appropriate normalizations `'amplitude'`, `'rms'`, or `'power'`. -->"
   ]
  },
  {
   "cell_type": "code",
   "execution_count": null,
   "metadata": {},
   "outputs": [],
   "source": [
    "sine = pf.signals.sine(1e3, n_samples, sampling_rate=sampling_rate)"
   ]
  },
  {
   "cell_type": "markdown",
   "metadata": {},
   "source": [
    "A **white noise** signal with an RMS value of $1/\\sqrt{2}\\,\\text{Pa}$. It represents a broadband stochastic signal of which a snippet was recorded of.\n",
    "<!-- Accordingly, it is a power signal with the appropriate normalization `'psd'`. -->"
   ]
  },
  {
   "cell_type": "code",
   "execution_count": null,
   "metadata": {},
   "outputs": [],
   "source": [
    "noise = pf.signals.noise(n_samples, rms=1/np.sqrt(2), sampling_rate=sampling_rate)"
   ]
  },
  {
   "cell_type": "markdown",
   "metadata": {},
   "source": [
    "## `'none'`\n",
    "The `'none'` normalization (the default) uses the FFT spectrum as it is. This norm is to be used for energy signals such as impulse responses, as illustrated below by the impulse and FIR filter. With this normalization, the spectrum is independent of the signal length. Yet, the spectrum depends on the number of samples for power signals, such as the sine and noise (\"longer signal = more energy\"). For example, the magnitude of the sine equals of number of samples/2 (1000/2, 60-6 dB). For that reason, other normalizations are appropriate for power signals. "
   ]
  },
  {
   "cell_type": "code",
   "execution_count": null,
   "metadata": {},
   "outputs": [],
   "source": [
    "for signal in [impulse, fir, sine, noise]:\n",
    "    signal.fft_norm = 'none'\n",
    "\n",
    "ax = pf.plot.freq(impulse, label=\"Impulse in dB re. 1/Hz\")\n",
    "pf.plot.freq(fir, label=\"FIR Filter in dB re. 1/Hz\")\n",
    "pf.plot.freq(noise, label=\"Noise in dB re. 1 Pa/Hz\")\n",
    "pf.plot.freq(sine, label=\"Sine in dB re. 1 Pa/Hz\")\n",
    "\n",
    "ax.set_title(\"'none'\")\n",
    "ax.set_ylim(-20, 70)\n",
    "ax.legend(loc='upper left')"
   ]
  },
  {
   "cell_type": "markdown",
   "metadata": {},
   "source": [
    "## `'unitary'`\n",
    "The FFT-calculated spectrum is multiplied by a factor of 2 in order to represent power related measures correctly.  This results in +6 dB in magnitude in the plot below compared to the `'none'`' normalization. **All following normalizations make use of this (implicitly assuming real-valued time signals, i.e., signals with single-sided spectrum).**"
   ]
  },
  {
   "cell_type": "code",
   "execution_count": null,
   "metadata": {},
   "outputs": [],
   "source": [
    "for signal in [impulse, fir, sine, noise]:\n",
    "    signal.fft_norm = 'unitary'\n",
    "\n",
    "ax = pf.plot.freq(impulse, label=\"Impulse in dB re. 1/Hz\")\n",
    "pf.plot.freq(fir, label=\"FIR Filter in dB re. 1/Hz\")\n",
    "pf.plot.freq(noise, label=\"Noise in dB re. 1 Pa/Hz\")\n",
    "pf.plot.freq(sine, label=\"Sine in dB re. 1 Pa/Hz\")\n",
    "\n",
    "ax.set_title(\"'unitary'\")\n",
    "ax.set_ylim(-20, 70)\n",
    "ax.legend(loc='upper left')"
   ]
  },
  {
   "cell_type": "markdown",
   "metadata": {},
   "source": [
    "## `'amplitude'`\n",
    "The spectrum is normalized to show the amplitude of the pure tone components contained in a signal by considering the number of samples. Accordingly, the sine signal with an amplitude of 1 has an absolute value of 1 Pa (0 dB) at the frequency of the sine, with the implied unit \"Pa\" being illustrated correctly."
   ]
  },
  {
   "cell_type": "code",
   "execution_count": null,
   "metadata": {},
   "outputs": [],
   "source": [
    "for signal in [impulse, fir, sine, noise]:\n",
    "    signal.fft_norm = 'amplitude'\n",
    "\n",
    "ax = pf.plot.freq(impulse, label=\"Impulse in dB re. 1\")\n",
    "pf.plot.freq(fir, label=\"FIR Filter in dB re. 1\")\n",
    "pf.plot.freq(noise, label=\"Noise in dB re. 1 Pa\")\n",
    "pf.plot.freq(sine, label=\"Sine in dB re. 1 Pa\")\n",
    "\n",
    "ax.set_title(\"'amplitude'\")\n",
    "ax.set_ylim(-80, 10)\n",
    "ax.legend(loc='upper left')"
   ]
  },
  {
   "cell_type": "markdown",
   "metadata": {},
   "source": [
    "## `'rms'`\n",
    "The spectrum is normalized to show the RMS value of the pure tone components contained in a signal. This results in a magnitude of -3 dB re. 1 Pa of the sine."
   ]
  },
  {
   "cell_type": "code",
   "execution_count": null,
   "metadata": {},
   "outputs": [],
   "source": [
    "for signal in [impulse, fir, sine, noise]:\n",
    "    signal.fft_norm = 'rms'\n",
    "\n",
    "ax = pf.plot.freq(impulse, label=\"Impulse in dB re. 1\")\n",
    "pf.plot.freq(fir, label=\"FIR Filter in dB re. 1\")\n",
    "pf.plot.freq(noise, label=\"Noise in dB re. 1 Pa\")\n",
    "pf.plot.freq(sine, label=\"Sine in dB re. 1 Pa\")\n",
    "\n",
    "ax.set_title(\"'rms'\")\n",
    "ax.set_ylim(-80, 10)\n",
    "ax.legend(loc='upper left')"
   ]
  },
  {
   "cell_type": "markdown",
   "metadata": {},
   "source": [
    "## `'power'`\n",
    "In a dB representation, `'power'` normalization equals the `'rms'` normalization, when correctly accounting for the prefix 10 in the dB calculation. Though meaningful for pure tones, these normalizations result in a dependence of the magnitude on the sampling rate for stochastic broadband signals such as the noise signal, as these are defined by a constant power density (see `'psd'`)."
   ]
  },
  {
   "cell_type": "code",
   "execution_count": null,
   "metadata": {},
   "outputs": [],
   "source": [
    "for signal in [impulse, fir, sine, noise]:\n",
    "    signal.fft_norm = 'power'\n",
    "\n",
    "ax = pf.plot.freq(impulse, log_prefix=10, label=\"Impulse in dB re. 1\")\n",
    "pf.plot.freq(fir, log_prefix=10, label=\"FIR Filter in dB re. 1\")\n",
    "pf.plot.freq(noise, log_prefix=10, label=\"Noise in dB re. 1 Pa\")\n",
    "pf.plot.freq(sine, log_prefix=10, label=\"Sine in dB re. 1 Pa\")\n",
    "\n",
    "ax.set_title(\"'power'\")\n",
    "ax.set_ylim(-80, 10)\n",
    "ax.legend(loc='upper left')"
   ]
  },
  {
   "cell_type": "markdown",
   "metadata": {},
   "source": [
    "## `'psd'`\n",
    "Using `'psd'` normalization, signals are represented as *power densities* (e.g. in Pa²/Hz), leading to a meaningful representation for broadband stochastic signals independently of the sampling rate. From the examples, this normalization is only meaningful for the noise signal. With this normalization, the sine's magnitude is reduced by a factor of number of samples / sampling rate (1/10, -10 dB) compared to  `'rms'` and `'power'`. "
   ]
  },
  {
   "cell_type": "code",
   "execution_count": null,
   "metadata": {},
   "outputs": [],
   "source": [
    "for signal in [impulse, fir, sine, noise]:\n",
    "    signal.fft_norm = 'psd'\n",
    "\n",
    "ax = pf.plot.freq(impulse, log_prefix=10, label=\"Impulse in dB re. 1/$\\sqrt{\\mathrm{Hz}}$\")\n",
    "pf.plot.freq(fir, log_prefix=10, label=\"FIR Filter in dB re. 1/$\\sqrt{\\mathrm{Hz}}$\")\n",
    "pf.plot.freq(noise, log_prefix=10, label=\"Noise in dB re. 1 Pa/$\\sqrt{\\mathrm{Hz}}$\")\n",
    "pf.plot.freq(sine, log_prefix=10, label=\"Sine in dB re. 1 Pa/$\\sqrt{\\mathrm{Hz}}$\")\n",
    "\n",
    "ax.set_title(\"'psd'\")\n",
    "ax.set_ylim(-80, 10)\n",
    "ax.legend(loc='upper left')"
   ]
  },
  {
   "cell_type": "markdown",
   "metadata": {},
   "source": [
    "## Summary\n",
    "The table summarizes which normalization to use for which type of signal.\n",
    "\n",
    "| Signal type            | Variation                              | Normalization          |\n",
    "|------------------------|----------------------------------------|------------------------|\n",
    "| Energy                 | Impulse responses / transfer functions | `'none'`               |\n",
    "| Power                  | Discrete tones                         | `'amplitude'`, `'rms'`, `'power'` |\n",
    "| Power                  | Broadband stochastic signals           | `'psd'`              |\n",
    "\n",
    "For further details, especially on the background of the power normalizations, it is referred to [Ahrens at al. (2020)](http://www.aes.org/e-lib/browse.cfm?elib=20838). See [pyfar.dsp.fft](https://pyfar.readthedocs.io/en/stable/modules/pyfar.dsp.fft.html) for a complete documentation."
   ]
  },
  {
   "cell_type": "markdown",
   "metadata": {},
   "source": [
    "## Reference\n",
    "[J. Ahrens, C. Andersson, P. Höstmad, and W. Kropp, “Tutorial on Scaling of the Discrete Fourier Transform and the Implied Physical Units of the Spectra of Time-Discrete Signals,” AES Convention e-Brief 600, May 2020.](http://www.aes.org/e-lib/browse.cfm?elib=20838)"
   ]
  },
  {
   "cell_type": "markdown",
   "metadata": {},
   "source": [
    "# License notice\n",
    "This notebook © 2024 by [the pyfar developers](https://github.com/orgs/pyfar/people) is licensed under [CC BY 4.0](http://creativecommons.org/licenses/by/4.0/?ref=chooser-v1)\n",
    "\n",
    "![CC BY Large](https://mirrors.creativecommons.org/presskit/buttons/88x31/svg/by.svg)\n"
   ]
  },
  {
   "cell_type": "markdown",
   "metadata": {},
   "source": [
    "# Watermark"
   ]
  },
  {
   "cell_type": "code",
   "execution_count": null,
   "metadata": {},
   "outputs": [],
   "source": [
    "%load_ext watermark\n",
    "%watermark -v -m -iv"
   ]
  }
 ],
 "metadata": {
  "kernelspec": {
   "display_name": "gallery",
   "language": "python",
   "name": "python3"
  },
  "language_info": {
   "codemirror_mode": {
    "name": "ipython",
    "version": 3
   },
   "file_extension": ".py",
   "mimetype": "text/x-python",
   "name": "python",
   "nbconvert_exporter": "python",
   "pygments_lexer": "ipython3",
   "version": "3.11.7"
  }
 },
 "nbformat": 4,
 "nbformat_minor": 2
}
