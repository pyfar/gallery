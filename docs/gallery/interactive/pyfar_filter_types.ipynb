{
 "cells": [
  {
   "cell_type": "markdown",
   "metadata": {},
   "source": [
    "# Overview of filters\n",
    "\n",
    "The [pyfar.dsp.filter](https://pyfar.readthedocs.io/en/stable/modules/pyfar.dsp.filter.html) module contains different filter types that are briefly introduced in the following. The filters can be used to directly filter pyfar *Signals* or can return a pyfar *Filter* object. For more information on this refer to the `LINK-TO-FILTERING-EXAMPLES` and `LINK-TO-AUDIO-OBJECT-EXAMPLES`. All examples use an impulse to illustrate the different filter types."
   ]
  },
  {
   "cell_type": "code",
   "execution_count": null,
   "metadata": {},
   "outputs": [],
   "source": [
    "import pyfar as pf\n",
    "import matplotlib.pyplot as plt\n",
    "%matplotlib inline\n",
    "\n",
    "impulse = pf.signals.impulse(44100)"
   ]
  },
  {
   "cell_type": "markdown",
   "metadata": {},
   "source": [
    "## Standard filters\n",
    "\n",
    "These are the classic filters that are wrapped from *scipy.signal* and\n",
    "available from the functions [pyfar.dsp.filter.butterworth](https://pyfar.readthedocs.io/en/stable/modules/pyfar.dsp.filter.html#pyfar.dsp.filter.butterworth), [pyfar.dsp.filter.bessel](https://pyfar.readthedocs.io/en/stable/modules/pyfar.dsp.filter.html#pyfar.dsp.filter.bessel), [pyfar.dsp.filter.chebyshev1](https://pyfar.readthedocs.io/en/stable/modules/pyfar.dsp.filter.html#pyfar.dsp.filter.chebyshev1), [pyfar.dsp.filter.chebyshev2](https://pyfar.readthedocs.io/en/stable/modules/pyfar.dsp.filter.html#pyfar.dsp.filter.chebyshev2), and [pyfar.dsp.filter.elliptic](https://pyfar.readthedocs.io/en/stable/modules/pyfar.dsp.filter.html#pyfar.dsp.filter.elliptic). They can be realized as high-pass, low-pass, band-pass, and band-stop filters as illustrated in the following examples.\n",
    "\n",
    "### High-pass filters"
   ]
  },
  {
   "cell_type": "code",
   "execution_count": null,
   "metadata": {},
   "outputs": [],
   "source": [
    "# filter order, cut-off frequency and type\n",
    "N = 4\n",
    "frequency = 1e3\n",
    "btype = 'highpass'\n",
    "\n",
    "# plot\n",
    "y = pf.dsp.filter.butterworth(impulse, N, frequency, btype=btype)\n",
    "ax = pf.plot.freq(y, label='Butterworth')\n",
    "\n",
    "y = pf.dsp.filter.bessel(impulse, N, frequency, btype=btype)\n",
    "pf.plot.freq(y * 10**(-5/20), label='Bessel')\n",
    "\n",
    "y = pf.dsp.filter.chebyshev1(impulse, N, 1, frequency, btype=btype)\n",
    "pf.plot.freq(y * 10**(-10/20), label='Chebyshev Type I')\n",
    "\n",
    "y = pf.dsp.filter.chebyshev2(impulse, N, 60, 300, btype=btype)\n",
    "pf.plot.freq(y * 10**(-15/20), label='Chebyshev Type II')\n",
    "\n",
    "y = pf.dsp.filter.elliptic(impulse, N, 1, 60, frequency, btype=btype)\n",
    "pf.plot.freq(y * 10**(-20/20), label='Elliptic')\n",
    "\n",
    "ax.legend(loc='lower right');"
   ]
  },
  {
   "cell_type": "markdown",
   "metadata": {},
   "source": [
    "### Low-pass filters"
   ]
  },
  {
   "cell_type": "code",
   "execution_count": null,
   "metadata": {},
   "outputs": [],
   "source": [
    "btype = 'lowpass'\n",
    "\n",
    "y = pf.dsp.filter.butterworth(impulse, N, frequency, btype=btype)\n",
    "ax = pf.plot.freq(y, label='Butterworth')\n",
    "\n",
    "y = pf.dsp.filter.bessel(impulse, N, frequency, btype=btype)\n",
    "pf.plot.freq(y * 10**(-5/20), label='Bessel')\n",
    "\n",
    "y = pf.dsp.filter.chebyshev1(impulse, N, 1, frequency, btype=btype)\n",
    "pf.plot.freq(y * 10**(-10/20), label='Chebyshev Type I')\n",
    "\n",
    "y = pf.dsp.filter.chebyshev2(impulse, N, 60, 3500, btype=btype)\n",
    "pf.plot.freq(y * 10**(-15/20), label='Chebyshev Type II')\n",
    "\n",
    "y = pf.dsp.filter.elliptic(impulse, N, 1, 60, frequency, btype=btype)\n",
    "pf.plot.freq(y * 10**(-20/20), label='Elliptic')\n",
    "\n",
    "ax.legend(loc='lower left');"
   ]
  },
  {
   "cell_type": "markdown",
   "metadata": {},
   "source": [
    "### Band-pass filters"
   ]
  },
  {
   "cell_type": "code",
   "execution_count": null,
   "metadata": {},
   "outputs": [],
   "source": [
    "frequency = [500, 2e3]\n",
    "btype = 'bandpass'\n",
    "\n",
    "y = pf.dsp.filter.butterworth(impulse, N, frequency, btype=btype)\n",
    "ax = pf.plot.freq(y, label='Butterworth')\n",
    "\n",
    "y = pf.dsp.filter.bessel(impulse, N, frequency, btype=btype)\n",
    "pf.plot.freq(y * 10**(-5/20), label='Bessel')\n",
    "\n",
    "y = pf.dsp.filter.chebyshev1(impulse, N, 1, frequency, btype=btype)\n",
    "pf.plot.freq(y * 10**(-10/20), label='Chebyshev Type I')\n",
    "\n",
    "y = pf.dsp.filter.chebyshev2(impulse, N, 60, [175, 5500], btype=btype)\n",
    "pf.plot.freq(y * 10**(-15/20), label='Chebyshev Type II')\n",
    "\n",
    "y = pf.dsp.filter.elliptic(impulse, N, 1, 60, frequency, btype=btype)\n",
    "pf.plot.freq(y * 10**(-20/20), label='Elliptic')\n",
    "\n",
    "ax.legend();"
   ]
  },
  {
   "cell_type": "markdown",
   "metadata": {},
   "source": [
    "### Band-stop filters"
   ]
  },
  {
   "cell_type": "code",
   "execution_count": null,
   "metadata": {},
   "outputs": [],
   "source": [
    "frequency = [250, 5e3]\n",
    "btype = 'bandstop'\n",
    "\n",
    "y = pf.dsp.filter.butterworth(impulse, N, frequency, btype=btype)\n",
    "ax = pf.plot.freq(y, label='Butterworth')\n",
    "\n",
    "y = pf.dsp.filter.bessel(impulse, N, frequency, btype=btype)\n",
    "pf.plot.freq(y * 10**(-5/20), label='Bessel')\n",
    "\n",
    "y = pf.dsp.filter.chebyshev1(impulse, N, 1, frequency, btype=btype)\n",
    "pf.plot.freq(y * 10**(-10/20), label='Chebyshev Type I')\n",
    "\n",
    "y = pf.dsp.filter.chebyshev2(impulse, N, 60, [175, 5500], btype=btype)\n",
    "pf.plot.freq(y * 10**(-15/20), label='Chebyshev Type II')\n",
    "\n",
    "y = pf.dsp.filter.elliptic(impulse, N, 1, 60, frequency, btype=btype)\n",
    "pf.plot.freq(y * 10**(-20/20), label='Elliptic')\n",
    "\n",
    "ax.legend(loc='lower left');"
   ]
  },
  {
   "cell_type": "markdown",
   "metadata": {},
   "source": [
    "## Linkwitz-Riley cross-over\n",
    "\n",
    "The function [pyfar.dsp.filter.crossover](https://pyfar.readthedocs.io/en/stable/modules/pyfar.dsp.filter.html#pyfar.dsp.filter.crossover) implements Linkwitz-Riley cross-over filters that are often used in loudspeaker design. The magnitude of the filters at the cross-over frequency is -6 dB and because the filters are in phase, their output adds to a constant magnitude response."
   ]
  },
  {
   "cell_type": "code",
   "execution_count": null,
   "metadata": {},
   "outputs": [],
   "source": [
    "frequency = 1e3\n",
    "\n",
    "y = pf.dsp.filter.crossover(impulse, N, frequency)\n",
    "ax = pf.plot.freq(y, label=['low-pass', 'high-pass'])\n",
    "pf.plot.freq(y[0] + y[1], color=[0, 0, 0, .5], linestyle='--', label='sum')\n",
    "\n",
    "ax.legend(loc='lower left');"
   ]
  },
  {
   "cell_type": "markdown",
   "metadata": {},
   "source": [
    "## Filter banks\n",
    "\n",
    "Filter banks are commonly used in audio and acoustics signal processing and pyfar contains the following filter banks.\n",
    "\n",
    "### Fractional octaves\n",
    "\n",
    "The fractional octave filter bank implemented in [pyfar.dsp.filter.fractional_octave_bands](https://pyfar.readthedocs.io/en/stable/modules/pyfar.dsp.filter.html#pyfar.dsp.filter.fractional_octave_bands) is often used for calculating room acoustic parameters. The magnitude responses at the cut-off frequencies are -3 dB and hence the filter bank is approximately energy preserving."
   ]
  },
  {
   "cell_type": "code",
   "execution_count": null,
   "metadata": {},
   "outputs": [],
   "source": [
    "y = pf.dsp.filter.fractional_octave_bands(impulse, 1, freq_range=(60, 12e3))\n",
    "ax = pf.plot.freq(y)\n",
    "ax.set_ylim(-60, 5);"
   ]
  },
  {
   "cell_type": "markdown",
   "metadata": {},
   "source": [
    "The center frequencies of the filters are accessible via [pyfar.dsp.filter.fractional_octave_frequencies](https://pyfar.readthedocs.io/en/stable/modules/pyfar.dsp.filter.html#pyfar.dsp.filter.fractional_octave_frequencies)."
   ]
  },
  {
   "cell_type": "markdown",
   "metadata": {},
   "source": [
    "\n",
    "### Reconstructing fractional octaves\n",
    "\n",
    "The reconstructing fractional octave filter bank implemented in [pyfar.dsp.filter.reconstructing_fractional_octave_bands](https://pyfar.readthedocs.io/en/stable/modules/pyfar.dsp.filter.html#pyfar.dsp.filter.reconstructing_fractional_octave_bands) has -6 dB cut off frequencies and a linear phase response. This makes sure that any input can be perfectly reconstructed by summing the input, at the cost of adding a frequency independent delay of half the filter length. This filter bank can for example be used for room acoustical simulations."
   ]
  },
  {
   "cell_type": "code",
   "execution_count": null,
   "metadata": {},
   "outputs": [],
   "source": [
    "y, *_ = pf.dsp.filter.reconstructing_fractional_octave_bands(impulse, 1)\n",
    "ax = pf.plot.freq(y)\n",
    "ax.set_ylim(-60, 5);"
   ]
  },
  {
   "cell_type": "markdown",
   "metadata": {},
   "source": [
    "The center frequencies of the filters are accessible via [pyfar.dsp.filter.fractional_octave_frequencies](https://pyfar.readthedocs.io/en/stable/modules/pyfar.dsp.filter.html#pyfar.dsp.filter.fractional_octave_frequencies)."
   ]
  },
  {
   "cell_type": "markdown",
   "metadata": {},
   "source": [
    "\n",
    "### Gammatone (auditory)\n",
    "\n",
    "The auditory gammatone filter bank implemented in [pyfar.dsp.filter.GammatoneBands](https://pyfar.readthedocs.io/en/stable/modules/pyfar.dsp.filter.html#pyfar.dsp.filter.GammatoneBands) mimics the frequency selectivity of the human auditory system. It is almost perfectly reconstructing and is often used for binaural modeling. It is a direct port of the famous [Hohmann2002](https://www.amtoolbox.org/amt-1.2.0/doc/demos/demo_hohmann2002.php) filter bank from the auditory modeling toolbox."
   ]
  },
  {
   "cell_type": "code",
   "execution_count": null,
   "metadata": {},
   "outputs": [],
   "source": [
    "gtf = pf.dsp.filter.GammatoneBands((20, 20e3))\n",
    "y, _ = gtf.process(impulse)\n",
    "ax = pf.plot.freq(y)\n",
    "ax.set_ylim(-60, 5);"
   ]
  },
  {
   "cell_type": "markdown",
   "metadata": {},
   "source": [
    "The center frequencies of the filters are accessible via [pyfar.dsp.filter.erb_frequencies](https://pyfar.readthedocs.io/en/stable/modules/pyfar.dsp.filter.html#pyfar.dsp.filter.erb_frequencies)."
   ]
  },
  {
   "cell_type": "markdown",
   "metadata": {},
   "source": [
    "## Parametric equalizer\n",
    "\n",
    "Parametric equalizers are specific filters used for example for audio effects or loudspeaker and room equalization. The *bell* filters implemented in [pyfar.dsp.filter.bell](https://pyfar.readthedocs.io/en/stable/modules/pyfar.dsp.filter.html#pyfar.dsp.filter.bell) manipulate the magnitude response around a center-frequency. The *shelve* filters implemented in [pyfar.dsp.filter.high_shelve](https://pyfar.readthedocs.io/en/stable/modules/pyfar.dsp.filter.html#pyfar.dsp.filter.high_shelve) and [pyfar.dsp.filter.low_shelve](https://pyfar.readthedocs.io/en/stable/modules/pyfar.dsp.filter.html#pyfar.dsp.filter.low_shelve) manipulate the magnitude response below or above a given characteristic frequency and the *notch* filters implemented in [pyfar.dsp.filter.notch](https://pyfar.readthedocs.io/en/stable/modules/pyfar.dsp.filter.html#pyfar.dsp.filter.notch) are very narrow band rejection filters."
   ]
  },
  {
   "cell_type": "code",
   "execution_count": null,
   "metadata": {},
   "outputs": [],
   "source": [
    "y = pf.dsp.filter.bell(impulse, frequency, 10, 2)\n",
    "ax = pf.plot.freq(y, label='Bell')\n",
    "\n",
    "y = pf.dsp.filter.bell(impulse, frequency, -10, 2)\n",
    "pf.plot.freq(y, color='b', linestyle='--')\n",
    "\n",
    "y = pf.dsp.filter.high_shelve(impulse, 4*frequency, 10, 2, 'II')\n",
    "pf.plot.freq(y * 10**(-20/20), label='High-shelve')\n",
    "\n",
    "y = pf.dsp.filter.high_shelve(impulse, 4*frequency, -10, 2, 'II')\n",
    "pf.plot.freq(y * 10**(-20/20), color='r', linestyle='--')\n",
    "\n",
    "y = pf.dsp.filter.low_shelve(impulse, 1/4*frequency, 10, 2, 'II')\n",
    "pf.plot.freq(y * 10**(-40/20), label='Low-shelve')\n",
    "\n",
    "y = pf.dsp.filter.low_shelve(impulse, 1/4*frequency, -10, 2, 'II')\n",
    "pf.plot.freq(y * 10**(-40/20), color='y', linestyle='--')\n",
    "\n",
    "y = pf.dsp.filter.notch(impulse * .1**3, 1000, 4)\n",
    "pf.plot.freq(y, label='Notch')\n",
    "\n",
    "ax.set_ylim(-100, 20)\n",
    "ax.legend(loc='lower left', ncol=2);"
   ]
  },
  {
   "cell_type": "markdown",
   "metadata": {},
   "source": [
    "\n",
    "\n",
    "The *cascaded shelving* filters implemented in [pyfar.dsp.filter.low_shelve_cascade](https://pyfar.readthedocs.io/en/stable/modules/pyfar.dsp.filter.html#pyfar.dsp.filter.low_shelve_cascade) and\n",
    "[pyfar.dsp.filter.high_shelve_cascade](https://pyfar.readthedocs.io/en/stable/modules/pyfar.dsp.filter.html#pyfar.dsp.filter.high_shelve_cascade) shown on the right can be used\n",
    "to generate filters with a user definable slope given in dB per octaves within\n",
    "a certain frequency region. They are also termed *High-Schultz* and *Low-Shultz* filters to acknowledge one of their inventors Frank Schultz."
   ]
  },
  {
   "cell_type": "code",
   "execution_count": null,
   "metadata": {},
   "outputs": [],
   "source": [
    "y, *_ = pf.dsp.filter.high_shelve_cascade(impulse, 125, 'lower', 10, None, 5)\n",
    "ax = pf.plot.freq(y, label=\"High-shelve cascade\")\n",
    "\n",
    "y, *_ = pf.dsp.filter.high_shelve_cascade(impulse, 125, 'lower', -10, None, 5)\n",
    "pf.plot.freq(y, label=\"High-shelve cascade\")\n",
    "\n",
    "y, *_ = pf.dsp.filter.low_shelve_cascade(impulse, 125, 'lower', 10, None, 5)\n",
    "pf.plot.freq(y * 10**(-20/20), label=\"Low-shelve cascade\")\n",
    "\n",
    "y, *_ = pf.dsp.filter.low_shelve_cascade(impulse, 125, 'lower', -10, None, 5)\n",
    "pf.plot.freq(y * 10**(-20/20), label=\"Low-shelve cascade\")\n",
    "\n",
    "ax.set_ylim(-40, 20)\n",
    "ax.legend(loc='lower right', ncol=2);"
   ]
  }
 ],
 "metadata": {
  "kernelspec": {
   "display_name": "pyfar_gallery",
   "language": "python",
   "name": "python3"
  },
  "language_info": {
   "codemirror_mode": {
    "name": "ipython",
    "version": 3
   },
   "file_extension": ".py",
   "mimetype": "text/x-python",
   "name": "python",
   "nbconvert_exporter": "python",
   "pygments_lexer": "ipython3",
   "version": "3.11.7"
  }
 },
 "nbformat": 4,
 "nbformat_minor": 2
}
