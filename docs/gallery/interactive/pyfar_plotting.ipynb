{
 "cells": [
  {
   "cell_type": "markdown",
   "metadata": {},
   "source": [
    "# Plotting using `pyfar`\n",
    "\n",
    "Plotting and visualizing data is an integral part of data analysis.\n",
    "`pyfar` provides functions to create time signals, frequency spectra, and other related data plots.\n",
    "These can be used for inspecting the data or generating scientific plots.\n",
    "`pyfar` uses the `matplotlib` library for plotting.\n",
    "This allows for a high degree of customization in the creation of figures.\n",
    "This notebook provides an overview of the plotting functions and how to use them."
   ]
  },
  {
   "cell_type": "markdown",
   "metadata": {},
   "source": [
    "## Time plots\n",
    "\n",
    "First, we will import pyfar and create a time signal to plot."
   ]
  },
  {
   "cell_type": "code",
   "execution_count": null,
   "metadata": {},
   "outputs": [],
   "source": [
    "import pyfar as pf\n",
    "import matplotlib.pyplot as plt\n",
    "\n",
    "# set matplotlib backend for plotting\n",
    "%matplotlib inline\n",
    "\n",
    "\n",
    "sweep = pf.signals.exponential_sweep_time(2**10, [100, 500])"
   ]
  },
  {
   "cell_type": "markdown",
   "metadata": {},
   "source": [
    "For a simple time plot, we can use"
   ]
  },
  {
   "cell_type": "code",
   "execution_count": null,
   "metadata": {},
   "outputs": [],
   "source": [
    "plt.figure()\n",
    "pf.plot.time(sweep)"
   ]
  },
  {
   "cell_type": "markdown",
   "metadata": {},
   "source": [
    "The plot can be customized using `pyfar` specific arguments as well as `matplotlib` specific arguments."
   ]
  },
  {
   "cell_type": "code",
   "execution_count": null,
   "metadata": {},
   "outputs": [],
   "source": [
    "pf.plot.time(sweep,\n",
    "                # pyfar arguments\n",
    "                unit=\"ms\",\n",
    "                # matplotlib arguments\n",
    "                color=\"r\",\n",
    "                linestyle=\"--\",\n",
    "            )"
   ]
  },
  {
   "cell_type": "markdown",
   "metadata": {},
   "source": [
    "Changes can also be made directly using the `matplotlib` functions.\n",
    "For this, `pyfar` returns the axis objects."
   ]
  },
  {
   "cell_type": "code",
   "execution_count": null,
   "metadata": {},
   "outputs": [],
   "source": [
    "ax = pf.plot.time(sweep)\n",
    "\n",
    "ax.legend([\"Exponential sine sweep\"], loc=\"lower center\")\n",
    "ax.set_title(\"Exponential sine sweep\")"
   ]
  }
 ],
 "metadata": {
  "kernelspec": {
   "display_name": ".env",
   "language": "python",
   "name": "python3"
  },
  "language_info": {
   "codemirror_mode": {
    "name": "ipython",
    "version": 3
   },
   "file_extension": ".py",
   "mimetype": "text/x-python",
   "name": "python",
   "nbconvert_exporter": "python",
   "pygments_lexer": "ipython3",
   "version": "3.12.0"
  }
 },
 "nbformat": 4,
 "nbformat_minor": 2
}
