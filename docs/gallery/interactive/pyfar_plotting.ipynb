{
 "cells": [
  {
   "cell_type": "markdown",
   "metadata": {},
   "source": [
    "# Plotting using `pyfar`\n",
    "\n",
    "Plotting and visualizing data is an integral part of data analysis.\n",
    "`pyfar` provides functions to create time signals, frequency spectra, and other related data plots.\n",
    "These can be used for inspecting the data or generating scientific plots.\n",
    "`pyfar` uses the `matplotlib` library for plotting.\n",
    "This allows for a high degree of customization in the creation of figures.\n",
    "This notebook provides an overview of the plotting functions and how to use them."
   ]
  },
  {
   "cell_type": "markdown",
   "metadata": {},
   "source": [
    "## Line plots\n",
    "\n",
    "First, we will import pyfar and create a time signal to plot."
   ]
  },
  {
   "cell_type": "code",
   "execution_count": null,
   "metadata": {},
   "outputs": [],
   "source": [
    "import pyfar as pf\n",
    "import matplotlib.pyplot as plt\n",
    "\n",
    "# set matplotlib backend for plotting\n",
    "%matplotlib inline\n",
    "\n",
    "\n",
    "sweep = pf.signals.exponential_sweep_time(2**10, [100, 500])"
   ]
  },
  {
   "cell_type": "markdown",
   "metadata": {},
   "source": [
    "For a simple time plot, we can use"
   ]
  },
  {
   "cell_type": "code",
   "execution_count": null,
   "metadata": {},
   "outputs": [],
   "source": [
    "plt.figure()\n",
    "pf.plot.time(sweep)"
   ]
  },
  {
   "cell_type": "markdown",
   "metadata": {},
   "source": [
    "The plot can be customized using `pyfar` specific arguments as well as `matplotlib` specific arguments."
   ]
  },
  {
   "cell_type": "code",
   "execution_count": null,
   "metadata": {},
   "outputs": [],
   "source": [
    "pf.plot.time(sweep,\n",
    "                # pyfar arguments\n",
    "                unit=\"ms\",\n",
    "                # matplotlib arguments\n",
    "                color=\"r\",\n",
    "                linestyle=\"--\",\n",
    "            )"
   ]
  },
  {
   "cell_type": "markdown",
   "metadata": {},
   "source": [
    "Changes can also be made directly using the `matplotlib` functions.\n",
    "For this, `pyfar` returns the axis objects."
   ]
  },
  {
   "cell_type": "code",
   "execution_count": null,
   "metadata": {},
   "outputs": [],
   "source": [
    "ax = pf.plot.time(sweep)\n",
    "\n",
    "ax.legend([\"Exponential sine sweep\"], loc=\"lower center\")\n",
    "ax.set_title(\"Exponential sine sweep\")"
   ]
  },
  {
   "cell_type": "markdown",
   "metadata": {},
   "source": [
    "`pyfar` also supports plotting multiple signals in one figure."
   ]
  },
  {
   "cell_type": "code",
   "execution_count": null,
   "metadata": {},
   "outputs": [],
   "source": [
    "lin_sweep = pf.signals.linear_sweep_time(2**10, [100, 500])\n",
    "\n",
    "sweep_comparison = pf.utils.concatenate_channels((sweep, lin_sweep))\n",
    "\n",
    "ax = pf.plot.time(sweep_comparison, label=[\"Exponential\", \"Linear\"])\n",
    "ax.legend(loc=\"lower center\")"
   ]
  },
  {
   "cell_type": "markdown",
   "metadata": {},
   "source": [
    "A `pyfar.Signal` and `pyfar.FrequencyData` objects can also be plotted in the frequency domain."
   ]
  },
  {
   "cell_type": "code",
   "execution_count": null,
   "metadata": {},
   "outputs": [],
   "source": [
    "sweep = pf.signals.exponential_sweep_time(2**14, [100, 10000])\n",
    "lin_sweep = pf.signals.linear_sweep_time(2**14, [100, 10000])\n",
    "\n",
    "sweep_comparison = pf.utils.concatenate_channels((sweep, lin_sweep))\n",
    "\n",
    "ax = pf.plot.freq(sweep_comparison, label=[\"Exponential\", \"Linear\"])\n",
    "ax.legend(loc=\"lower center\")\n",
    "ax.set_xlim(100, 10000)\n",
    "ax.set_ylim(20, 60)"
   ]
  },
  {
   "cell_type": "markdown",
   "metadata": {},
   "source": [
    "Note, that the FFT norm is taken into account when plotting the frequency domain."
   ]
  },
  {
   "cell_type": "code",
   "execution_count": null,
   "metadata": {},
   "outputs": [],
   "source": [
    "sweep_comparison.fft_norm = \"power\"\n",
    "\n",
    "ax = pf.plot.freq(sweep_comparison, label=[\"Exponential\", \"Linear\"])\n",
    "ax.legend(loc=\"lower center\")\n",
    "ax.set_xlim(100, 10000)\n",
    "ax.set_ylim(-60, -20)"
   ]
  },
  {
   "cell_type": "markdown",
   "metadata": {},
   "source": [
    "There are also convenient functions to plot the time and the frequency spectrum."
   ]
  },
  {
   "cell_type": "code",
   "execution_count": null,
   "metadata": {},
   "outputs": [],
   "source": [
    "ax = pf.plot.time_freq(sweep_comparison, label=[\"Exponential\", \"Linear\"])\n",
    "ax[0].set_title(\"Time domain\")\n",
    "ax[1].set_title(\"Frequency domain\")\n",
    "ax[1].legend(loc=\"lower center\")"
   ]
  },
  {
   "cell_type": "markdown",
   "metadata": {},
   "source": [
    "Note, that the plot function now returns an array of axis objects.\n",
    "One for each subplot."
   ]
  },
  {
   "cell_type": "markdown",
   "metadata": {},
   "source": [
    "## Interactive plots\n",
    "\n",
    "`pyfar` provides keyboard shortcuts for switching plots, zooming in and out, moving along the x and y-axis, and for zooming and moving the range of color maps.\n",
    "To do this, you need to use an interactive `matplotlib` backend.\n",
    "This can for example be done by including\n",
    "\n",
    "```ptyhon\n",
    "%matplotlib qt\n",
    "```\n",
    "\n",
    "or\n",
    "\n",
    "```python\n",
    "matplotlib.use('Qt5Agg')\n",
    "```\n",
    "\n",
    "in your code.\n",
    "\n",
    "The available keyboard shortcuts can be queried using"
   ]
  },
  {
   "cell_type": "code",
   "execution_count": null,
   "metadata": {},
   "outputs": [],
   "source": [
    "shortcuts = pf.plot.shortcuts()"
   ]
  },
  {
   "cell_type": "markdown",
   "metadata": {},
   "source": [
    "or in the [online documentation](https://pyfar.readthedocs.io/en/stable/concepts/pyfar.plot.html#interactive-plots)."
   ]
  }
 ],
 "metadata": {
  "kernelspec": {
   "display_name": ".env",
   "language": "python",
   "name": "python3"
  },
  "language_info": {
   "codemirror_mode": {
    "name": "ipython",
    "version": 3
   },
   "file_extension": ".py",
   "mimetype": "text/x-python",
   "name": "python",
   "nbconvert_exporter": "python",
   "pygments_lexer": "ipython3",
   "version": "3.12.0"
  }
 },
 "nbformat": 4,
 "nbformat_minor": 2
}
