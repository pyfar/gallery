{
 "cells": [
  {
   "cell_type": "markdown",
   "metadata": {},
   "source": [
    "# Plotting using pyfar\n",
    "\n",
    "Plotting and visualizing data is an integral part of data analysis.\n",
    "pyfar provides functions to create time signals, frequency spectra, and other related data plots.\n",
    "These can be used for inspecting the data or generating scientific plots.\n",
    "pyfar uses the matplotlib library for plotting.\n",
    "This allows for a high degree of customization in the creation of figures.\n",
    "This notebook provides an overview of the plotting functions and how to use them.\n",
    "For more details on the plotting functions, please refer to the [documentation](https://pyfar.readthedocs.io/en/stable/modules/pyfar.plot.html)."
   ]
  },
  {
   "cell_type": "markdown",
   "metadata": {},
   "source": [
    "## Line plots\n",
    "\n",
    "First, we will import pyfar and create a time signal to plot."
   ]
  },
  {
   "cell_type": "code",
   "execution_count": null,
   "metadata": {},
   "outputs": [],
   "source": [
    "import pyfar as pf\n",
    "import numpy as np\n",
    "import matplotlib.pyplot as plt\n",
    "\n",
    "# set matplotlib backend for plotting\n",
    "%matplotlib inline\n",
    "\n",
    "# 1024 samples sine sweep between 100 and 500 Hz\n",
    "sweep = pf.signals.exponential_sweep_time(2**10, [100, 500])"
   ]
  },
  {
   "cell_type": "markdown",
   "metadata": {},
   "source": [
    "For a simple time plot, we can use"
   ]
  },
  {
   "cell_type": "code",
   "execution_count": null,
   "metadata": {
    "nbsphinx-thumbnail": {}
   },
   "outputs": [],
   "source": [
    "pf.plot.time(sweep)"
   ]
  },
  {
   "cell_type": "markdown",
   "metadata": {},
   "source": [
    "Note, that the plot is styled using the default settings of pyfar.\n",
    "Checkout the [styling plots section](#styling-plots) for more information on what is changed exactly.\n",
    "\n",
    "The plot can be customized using pyfar specific arguments as well as matplotlib specific arguments."
   ]
  },
  {
   "cell_type": "code",
   "execution_count": null,
   "metadata": {},
   "outputs": [],
   "source": [
    "pf.plot.time(sweep,\n",
    "                # pyfar arguments\n",
    "                unit=\"ms\",\n",
    "                # matplotlib arguments\n",
    "                color=\"r\",\n",
    "                linestyle=\"--\",\n",
    "            )"
   ]
  },
  {
   "cell_type": "markdown",
   "metadata": {},
   "source": [
    "Changes can also be made directly using the matplotlib functions.\n",
    "For this, pyfar returns the axis objects."
   ]
  },
  {
   "cell_type": "code",
   "execution_count": null,
   "metadata": {},
   "outputs": [],
   "source": [
    "ax = pf.plot.time(sweep)\n",
    "\n",
    "ax.set_title(\"Exponential sine sweep\")"
   ]
  },
  {
   "cell_type": "markdown",
   "metadata": {},
   "source": [
    "pyfar also supports plotting multiple signals in one figure."
   ]
  },
  {
   "cell_type": "code",
   "execution_count": null,
   "metadata": {},
   "outputs": [],
   "source": [
    "lin_sweep = pf.signals.linear_sweep_time(2**10, [100, 500])\n",
    "\n",
    "ax = pf.plot.time(sweep, label=\"Exponential\")\n",
    "ax = pf.plot.time(lin_sweep, label=\"Linear\")\n",
    "ax.legend(loc=\"lower center\")"
   ]
  },
  {
   "cell_type": "markdown",
   "metadata": {},
   "source": [
    "`pyfar.Signal` and `pyfar.FrequencyData` objects can also be plotted in the frequency domain.\n",
    "Note, that the FFT norm is taken into account when plotting the frequency domain see [the notebook on FFT normalization] () for more information on this."
   ]
  },
  {
   "cell_type": "code",
   "execution_count": null,
   "metadata": {},
   "outputs": [],
   "source": [
    "sweep = pf.signals.exponential_sweep_time(2**14, [100, 10000])\n",
    "lin_sweep = pf.signals.linear_sweep_time(2**14, [100, 10000])\n",
    "\n",
    "ax = pf.plot.freq(sweep, label=\"Exponential\")\n",
    "ax = pf.plot.freq(lin_sweep, label=\"Linear\")\n",
    "ax.legend(loc=\"lower center\")\n",
    "ax.set_xlim(100, 10000)\n",
    "ax.set_ylim(20, 60)"
   ]
  },
  {
   "cell_type": "markdown",
   "metadata": {},
   "source": [
    "There are also convenient functions to plot the time and the frequency spectrum."
   ]
  },
  {
   "cell_type": "code",
   "execution_count": null,
   "metadata": {},
   "outputs": [],
   "source": [
    "ax = pf.plot.time_freq(sweep, label=\"Exponential\")\n",
    "ax = pf.plot.time_freq(lin_sweep, label=\"Linear\")\n",
    "ax[0].set_title(\"Time domain\")\n",
    "ax[1].set_title(\"Frequency domain\")\n",
    "ax[1].legend(loc=\"lower center\")"
   ]
  },
  {
   "cell_type": "markdown",
   "metadata": {},
   "source": [
    "Note, that the plot function now returns an array of axis objects.\n",
    "One for each subplot."
   ]
  },
  {
   "cell_type": "markdown",
   "metadata": {},
   "source": [
    "## Spectrograms\n",
    "\n",
    "`pyfar` also provides functions to create spectrograms."
   ]
  },
  {
   "cell_type": "code",
   "execution_count": null,
   "metadata": {},
   "outputs": [],
   "source": [
    "pf.plot.spectrogram(sweep)"
   ]
  },
  {
   "cell_type": "markdown",
   "metadata": {},
   "source": [
    "Similar to the line plots, the spectrogram can be customized using pyfar specific arguments as well as matplotlib specific arguments.\n",
    "Note, that either `matplotlib.pyplot.pcolormesh()` or `matplotlib.pyplot.contourf()` is used depending on the selected `method`.\n",
    "As such, also the available kwargs might change."
   ]
  },
  {
   "cell_type": "code",
   "execution_count": null,
   "metadata": {},
   "outputs": [],
   "source": [
    "pf.plot.spectrogram(sweep,\n",
    "                    # pyfar arguments\n",
    "                    window_overlap_fct =0.75,\n",
    "                    window_length=2**9,\n",
    "                    unit=\"ms\",\n",
    "                    # matplotlib arguments\n",
    "                    cmap=\"viridis\",\n",
    "                )"
   ]
  },
  {
   "cell_type": "markdown",
   "metadata": {},
   "source": [
    "## 2D plots\n",
    "\n",
    "There are also functions to plot a multi-channel `pyfar.Signal` in 2D.\n",
    "All line plots have such a corresponding 2D plot method.\n",
    "\n",
    "Let us take a look how this can help us to visualize the data.\n",
    "First, we will create a multi-channel impulse signal with different time delays and amplitudes across channels."
   ]
  },
  {
   "cell_type": "code",
   "execution_count": null,
   "metadata": {},
   "outputs": [],
   "source": [
    "sample_delays = np.rint(8 * np.sin(np.linspace(0, 2*np.pi, 25))).astype(int) + 32\n",
    "impulses = pf.signals.impulse(64, sample_delays, np.linspace(1, .5, 25))"
   ]
  },
  {
   "cell_type": "markdown",
   "metadata": {},
   "source": [
    "If we plot this using the line plots, this can sometimes be hard to interpret."
   ]
  },
  {
   "cell_type": "code",
   "execution_count": null,
   "metadata": {},
   "outputs": [],
   "source": [
    "pf.plot.time(impulses, unit='ms')"
   ]
  },
  {
   "cell_type": "markdown",
   "metadata": {},
   "source": [
    "Using the 2D plots, the data is visualized in a more intuitive way."
   ]
  },
  {
   "cell_type": "code",
   "execution_count": null,
   "metadata": {},
   "outputs": [],
   "source": [
    "pf.plot.time_2d(impulses, unit='ms')"
   ]
  },
  {
   "cell_type": "markdown",
   "metadata": {},
   "source": [
    "## Styling plots\n",
    "\n",
    "From the plots above, you might have noticed that the plots look different from the default matplotlib style.\n",
    "This is because pyfar changes the default style of matplotlib towards a more convenient style for acoustic research.\n",
    "Some of the changes include:\n",
    "\n",
    "- Grid enabled by default\n",
    "- Frequency axis with adapted tick locations\n",
    "- Custom color cycle, wich also overwrites the default matplotlib colors (e.g. `'r'` results in the red defined by [`pyfar.plot.color`](https://pyfar.readthedocs.io/en/stable/modules/pyfar.plot.html#pyfar.plot.color))\n",
    "\n",
    "Furthermore, pyfar includes two pyfar-specific plot styles: _light_ and _dark_.\n",
    "The default style is _light_.\n",
    "\n",
    "The pyfar plot functions accept a `style` argument to change the style."
   ]
  },
  {
   "cell_type": "code",
   "execution_count": null,
   "metadata": {},
   "outputs": [],
   "source": [
    "signal = pf.Signal([0, 1, 0, -1], 44100)\n",
    "\n",
    "pf.plot.time(signal, style=\"dark\")"
   ]
  },
  {
   "cell_type": "markdown",
   "metadata": {},
   "source": [
    "The overall style can be temporarily changed using `pyfar.plot.context` which is a wrapper around `matplotlib.context`"
   ]
  },
  {
   "cell_type": "code",
   "execution_count": null,
   "metadata": {},
   "outputs": [],
   "source": [
    "with pf.plot.context(style=\"dark\"):\n",
    "    # this plot uses the dark style\n",
    "    fig, ax = plt.subplots(1, 1)\n",
    "    pf.plot.time(signal, ax=ax)\n",
    "\n",
    "# plots outside the `with` context would use the standard style again"
   ]
  },
  {
   "cell_type": "markdown",
   "metadata": {},
   "source": [
    "This overall change in style can also be made permanent with the `pf.plot.use()` function like this:"
   ]
  },
  {
   "cell_type": "code",
   "execution_count": null,
   "metadata": {},
   "outputs": [],
   "source": [
    "pf.plot.use(style=\"dark\")\n",
    "fig, ax = plt.subplots(1, 1)\n",
    "pf.plot.time(signal, ax=ax)"
   ]
  },
  {
   "cell_type": "markdown",
   "metadata": {},
   "source": [
    "## Interactive plots\n",
    "\n",
    "pyfar provides keyboard shortcuts for switching plots, zooming in and out, moving along the x and y-axis, and for zooming and moving the range of color maps.\n",
    "To do this, you need to use an interactive matplotlib backend.\n",
    "This can for example be done by including\n",
    "\n",
    "```python\n",
    "%matplotlib qt\n",
    "```\n",
    "\n",
    "or\n",
    "\n",
    "```python\n",
    "matplotlib.use('Qt5Agg')\n",
    "```\n",
    "\n",
    "in your code.\n",
    "\n",
    "The available keyboard shortcuts can be queried using\n",
    "```python\n",
    "shortcuts = pf.plot.shortcuts()\n",
    "```\n",
    "or in the [online documentation](https://pyfar.readthedocs.io/en/stable/modules/pyfar.plot.html#pyfar.plot.shortcuts).\n",
    "\n",
    "In the following plot you can try out the shortcuts for yourself in binder.\n",
    "We will reuse the `impulses` from above.\n",
    "For example, using `,` and `.` you can switch between the different channels or look at the group delay using `shift + g`."
   ]
  },
  {
   "cell_type": "code",
   "execution_count": null,
   "metadata": {},
   "outputs": [],
   "source": [
    "%matplotlib ipympl\n",
    "\n",
    "pf.plot.use(style=\"light\")\n",
    "\n",
    "pf.plot.time(impulses, unit='ms')"
   ]
  },
  {
   "cell_type": "markdown",
   "metadata": {},
   "source": [
    "## Further reading\n",
    "\n",
    "For more information on the plotting functions and even more functions, see the [online documentation](https://pyfar.readthedocs.io/en/stable/modules/pyfar.plot.html)."
   ]
  }
 ],
 "metadata": {
  "kernelspec": {
   "display_name": ".env",
   "language": "python",
   "name": "python3"
  },
  "language_info": {
   "codemirror_mode": {
    "name": "ipython",
    "version": 3
   },
   "file_extension": ".py",
   "mimetype": "text/x-python",
   "name": "python",
   "nbconvert_exporter": "python",
   "pygments_lexer": "ipython3",
   "version": "3.12.0"
  }
 },
 "nbformat": 4,
 "nbformat_minor": 2
}
