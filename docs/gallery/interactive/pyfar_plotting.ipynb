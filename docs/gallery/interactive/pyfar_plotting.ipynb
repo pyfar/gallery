{
 "cells": [
  {
   "cell_type": "markdown",
   "metadata": {},
   "source": [
    "# Plotting and plotstyles\n",
    "\n",
    "Plotting and visualizing data is an integral part of data analysis.\n",
    "pyfar provides functions to plot time signals, frequency spectra, and to create other related data plots.\n",
    "These can be used to inspect the data or generate scientific plots.\n",
    "\n",
    "Under the hood, pyfar uses the matplotlib library for plotting.\n",
    "This allows for a high degree of customization in the creation of figures.\n",
    "This notebook provides an overview of the plotting functions and how they can be used to customize the plots for your use-cases.\n",
    "For more details on the plotting functions, please refer to the [documentation](https://pyfar.readthedocs.io/en/stable/modules/pyfar.plot.html).\n",
    "\n",
    "pyfar also adds interactive features to the plots for inspection,",
    "for example, zooming and cycling through channels.\n",
    "This can be tested in [this](./pyfar_interactive_plots.ipynb) notebook."
   ]
  },
  {
   "cell_type": "markdown",
   "metadata": {},
   "source": [
    "## Line plots\n",
    "\n",
    "First, we will import pyfar and create a time signal to plot."
   ]
  },
  {
   "cell_type": "code",
   "execution_count": null,
   "metadata": {},
   "outputs": [],
   "source": [
    "import pyfar as pf\n",
    "import numpy as np\n",
    "import matplotlib.pyplot as plt\n",
    "\n",
    "# set matplotlib backend for plotting\n",
    "%matplotlib inline\n",
    "\n",
    "# 1024 samples sine sweep between 100 and 500 Hz\n",
    "sweep = pf.signals.exponential_sweep_time(2**10, [100, 500])"
   ]
  },
  {
   "cell_type": "markdown",
   "metadata": {},
   "source": [
    "For a simple time plot, we can use"
   ]
  },
  {
   "cell_type": "code",
   "execution_count": null,
   "metadata": {
    "nbsphinx-thumbnail": {}
   },
   "outputs": [],
   "source": [
    "pf.plot.time(sweep)"
   ]
  },
  {
   "cell_type": "markdown",
   "metadata": {},
   "source": [
    "Note, that the plot is styled using the default settings of pyfar.\n",
    "Checkout the [styling plots section](#styling-plots) for more information on what is changed exactly.\n",
    "\n",
    "The plot can be customized using pyfar specific arguments as well as matplotlib specific arguments."
   ]
  },
  {
   "cell_type": "code",
   "execution_count": null,
   "metadata": {},
   "outputs": [],
   "source": [
    "pf.plot.time(sweep,\n",
    "                # pyfar arguments\n",
    "                unit=\"ms\",\n",
    "                # matplotlib arguments\n",
    "                color=\"r\",\n",
    "                linestyle=\"--\",\n",
    "            )"
   ]
  },
  {
   "cell_type": "markdown",
   "metadata": {},
   "source": [
    "Changes can also be made directly using the matplotlib functions.\n",
    "For this, pyfar returns the axis objects."
   ]
  },
  {
   "cell_type": "code",
   "execution_count": null,
   "metadata": {},
   "outputs": [],
   "source": [
    "ax = pf.plot.time(sweep)\n",
    "\n",
    "ax.set_title(\"Exponential sine sweep\")"
   ]
  },
  {
   "cell_type": "markdown",
   "metadata": {},
   "source": [
    "pyfar also supports plotting multiple signals in one figure."
   ]
  },
  {
   "cell_type": "code",
   "execution_count": null,
   "metadata": {},
   "outputs": [],
   "source": [
    "lin_sweep = pf.signals.linear_sweep_time(2**10, [100, 500])\n",
    "\n",
    "ax = pf.plot.time(sweep, label=\"Exponential\")\n",
    "ax = pf.plot.time(lin_sweep, label=\"Linear\")\n",
    "ax.legend(loc=\"lower center\")"
   ]
  },
  {
   "cell_type": "markdown",
   "metadata": {},
   "source": [
    "`pyfar.Signal` and `pyfar.FrequencyData` objects can also be plotted in the frequency domain.\n",
    "Note, that the FFT norm is taken into account when plotting the frequency domain see [the notebook on FFT normalization] (https://pyfar-gallery.readthedocs.io/en/latest/gallery/interactive/fast_fourier_transform.html) for more information on this."
   ]
  },
  {
   "cell_type": "code",
   "execution_count": null,
   "metadata": {},
   "outputs": [],
   "source": [
    "sweep = pf.signals.exponential_sweep_time(2**14, [100, 10000])\n",
    "lin_sweep = pf.signals.linear_sweep_time(2**14, [100, 10000])\n",
    "\n",
    "ax = pf.plot.freq(sweep, label=\"Exponential\")\n",
    "ax = pf.plot.freq(lin_sweep, label=\"Linear\")\n",
    "ax.legend(loc=\"lower center\")\n",
    "ax.set_xlim(100, 10000)\n",
    "ax.set_ylim(20, 60)"
   ]
  },
  {
   "cell_type": "markdown",
   "metadata": {},
   "source": [
    "There are also convenient functions to plot the time signal and the frequency spectrum."
   ]
  },
  {
   "cell_type": "code",
   "execution_count": null,
   "metadata": {},
   "outputs": [],
   "source": [
    "ax = pf.plot.time_freq(sweep, label=\"Exponential\")\n",
    "ax = pf.plot.time_freq(lin_sweep, label=\"Linear\")\n",
    "ax[0].set_title(\"Time domain\")\n",
    "ax[1].set_title(\"Frequency domain\")\n",
    "ax[1].legend(loc=\"lower center\")"
   ]
  },
  {
   "cell_type": "markdown",
   "metadata": {},
   "source": [
    "Note, that the plot function now returns an array of axis objects.\n",
    "One for each subplot."
   ]
  },
  {
   "cell_type": "markdown",
   "metadata": {},
   "source": [
    "### Spectrograms\n",
    "\n",
    "`pyfar` also provides functions to create spectrograms."
   ]
  },
  {
   "cell_type": "code",
   "execution_count": null,
   "metadata": {},
   "outputs": [],
   "source": [
    "pf.plot.spectrogram(sweep)"
   ]
  },
  {
   "cell_type": "markdown",
   "metadata": {},
   "source": [
    "Similar to the line plots, the spectrogram can be customized using pyfar specific arguments as well as matplotlib specific arguments.\n",
    "Note, that either `matplotlib.pyplot.pcolormesh()` or `matplotlib.pyplot.contourf()` is used depending on the selected `method`.\n",
    "As such, also the available arguments might change."
   ]
  },
  {
   "cell_type": "code",
   "execution_count": null,
   "metadata": {},
   "outputs": [],
   "source": [
    "pf.plot.spectrogram(sweep,\n",
    "                    # pyfar arguments\n",
    "                    window_overlap_fct =0.75,\n",
    "                    window_length=2**9,\n",
    "                    unit=\"ms\",\n",
    "                    # matplotlib arguments\n",
    "                    cmap=\"viridis\",\n",
    "                )"
   ]
  },
  {
   "cell_type": "markdown",
   "metadata": {},
   "source": [
    "## 2D plots\n",
    "\n",
    "There are also functions to plot a multi-channel `pyfar.Signal` in 2D.\n",
    "All line plots have such a corresponding 2D plot method.\n",
    "\n",
    "Let us take a look how this can help us to visualize the data.\n",
    "First, we will create a multi-channel impulse signal with different time delays and amplitudes across channels."
   ]
  },
  {
   "cell_type": "code",
   "execution_count": null,
   "metadata": {},
   "outputs": [],
   "source": [
    "sample_delays = np.rint(8 * np.sin(np.linspace(0, 2*np.pi, 25))).astype(int) + 32\n",
    "impulses = pf.signals.impulse(64, sample_delays, np.linspace(1, .5, 25))"
   ]
  },
  {
   "cell_type": "markdown",
   "metadata": {},
   "source": [
    "If we plot this using the line plots, this can sometimes be hard to interpret."
   ]
  },
  {
   "cell_type": "code",
   "execution_count": null,
   "metadata": {},
   "outputs": [],
   "source": [
    "pf.plot.time(impulses, unit='ms')"
   ]
  },
  {
   "cell_type": "markdown",
   "metadata": {},
   "source": [
    "Using the 2D plots, the data is visualized in a more intuitive way."
   ]
  },
  {
   "cell_type": "code",
   "execution_count": null,
   "metadata": {},
   "outputs": [],
   "source": [
    "pf.plot.time_2d(impulses, unit='ms')"
   ]
  },
  {
   "cell_type": "markdown",
   "metadata": {},
   "source": [
    "## Styling plots\n",
    "\n",
    "From the plots above, you might have noticed that the plots look different from the default matplotlib style.\n",
    "This is because pyfar changes the default style of matplotlib towards a more convenient style for acoustic research.\n",
    "Some of the changes include:\n",
    "\n",
    "- Grid enabled by default\n",
    "- Frequency axis with adapted tick locations\n",
    "- Custom color cycle, wich also overwrites the default matplotlib colors (e.g. `'r'` results in the red defined by [pyfar.plot.color](https://pyfar.readthedocs.io/en/stable/modules/pyfar.plot.html#pyfar.plot.color))\n",
    "\n",
    "Furthermore, pyfar includes two pyfar-specific plot styles: _light_ and _dark_.\n",
    "The default style is _light_.\n",
    "\n",
    "The pyfar plot functions accept a `style` argument to change the style."
   ]
  },
  {
   "cell_type": "code",
   "execution_count": null,
   "metadata": {},
   "outputs": [],
   "source": [
    "signal = pf.Signal([0, 1, 0, -1], 44100)\n",
    "\n",
    "pf.plot.time(signal, style=\"dark\")"
   ]
  },
  {
   "cell_type": "markdown",
   "metadata": {},
   "source": [
    "The overall style can be temporarily changed using `pyfar.plot.context` which is a wrapper around `matplotlib.context`"
   ]
  },
  {
   "cell_type": "code",
   "execution_count": null,
   "metadata": {},
   "outputs": [],
   "source": [
    "with pf.plot.context(style=\"dark\"):\n",
    "    # this plot uses the dark style\n",
    "    fig, ax = plt.subplots(1, 1)\n",
    "    pf.plot.time(signal, ax=ax)\n",
    "\n",
    "# plots outside the `with` context would use the standard style again"
   ]
  },
  {
   "cell_type": "markdown",
   "metadata": {},
   "source": [
    "This overall change in style can also be made permanent with the `pf.plot.use()` function like this:"
   ]
  },
  {
   "cell_type": "code",
   "execution_count": null,
   "metadata": {},
   "outputs": [],
   "source": [
    "pf.plot.use(style=\"dark\")\n",
    "fig, ax = plt.subplots(1, 1)\n",
    "pf.plot.time(signal, ax=ax)"
   ]
  },
  {
   "cell_type": "markdown",
   "metadata": {},
   "source": [
    "# License notice\n",
    "This notebook © 2024 by [the pyfar developers](https://github.com/orgs/pyfar/people) is licensed under [CC BY 4.0](http://creativecommons.org/licenses/by/4.0/?ref=chooser-v1)\n",
    "\n",
    "![CC BY Large](https://mirrors.creativecommons.org/presskit/buttons/88x31/svg/by.svg)\n"
   ]
  },
  {
   "cell_type": "markdown",
   "metadata": {},
   "source": [
    "# Watermark"
   ]
  },
  {
   "cell_type": "code",
   "execution_count": null,
   "metadata": {},
   "outputs": [],
   "source": [
    "%load_ext watermark\n",
    "%watermark -v -m -iv"
   ]
  }
 ],
 "metadata": {
  "kernelspec": {
   "display_name": ".env",
   "language": "python",
   "name": "python3"
  },
  "language_info": {
   "codemirror_mode": {
    "name": "ipython",
    "version": 3
   },
   "file_extension": ".py",
   "mimetype": "text/x-python",
   "name": "python",
   "nbconvert_exporter": "python",
   "pygments_lexer": "ipython3",
   "version": "3.10.13"
  }
 },
 "nbformat": 4,
 "nbformat_minor": 2
}
