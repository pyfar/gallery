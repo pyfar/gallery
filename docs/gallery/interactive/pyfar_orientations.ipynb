{
 "cells": [
  {
   "cell_type": "markdown",
   "metadata": {},
   "source": [
    "# Orientations\n",
    "\n",
    "The [pyfar.Orientations](https://pyfar.readthedocs.io/en/latest/classes/pyfar.orientations.html) class is designed for storing, manipulating, and accessing orientation vectors. Examples for this are orientations of directional loudspeakers during measurements or head orientations. \n",
    "\n",
    "An orientation can be visualized with the triple of view, up and right vectors and it is tied to the object’s local coordinate system. Alternatively the object's orientation can be illustrated with help of the right hand: Thumb (view), forefinger (up) and middle finger (right). This means that the right vector is not required to define a Orientation. Note define a valid Orientation, the view and up vector need to be orthogonal to each other.\n",
    "\n",
    "Unfortunately, [scipy.spatial.transform.Rotation](https://docs.scipy.org/doc/scipy/reference/generated/scipy.spatial.transform.Rotation.html) is not able to deal with view and up vectors, thats why we extended this it.\n",
    "In other words,  [pyfar.Orientations](https://pyfar.readthedocs.io/en/latest/classes/pyfar.orientations.html) is inherited from [scipy.spatial.transform.Rotation](https://docs.scipy.org/doc/scipy/reference/generated/scipy.spatial.transform.Rotation.html) and that all methods of this class can also be used with [pyfar.Orientations](https://pyfar.readthedocs.io/en/latest/classes/pyfar.orientations.html). And [pyfar.Orientations](https://pyfar.readthedocs.io/en/latest/classes/pyfar.orientations.html) can cover view and up vectors. "
   ]
  },
  {
   "cell_type": "code",
   "execution_count": null,
   "metadata": {},
   "outputs": [],
   "source": [
    "import pyfar as pf\n",
    "import numpy as np\n",
    "%matplotlib inline"
   ]
  },
  {
   "cell_type": "markdown",
   "metadata": {},
   "source": [
    "## Entering orientations\n",
    "\n",
    "Lets go ahead and create an object and show the result. Note that the view an up vectors are always given in cartesian coordinates."
   ]
  },
  {
   "cell_type": "code",
   "execution_count": null,
   "metadata": {},
   "outputs": [],
   "source": [
    "views = [[0,  1, 0],\n",
    "         [1,  0, 0],\n",
    "         [0, -1, 0]]\n",
    "up = [0, 0, 1]\n",
    "orientations = pf.Orientations.from_view_up(views, up)\n",
    "orientations.show(show_rights=False)\n"
   ]
  },
  {
   "cell_type": "markdown",
   "metadata": {},
   "source": [
    "It is also possible to enter [pyfar.Orientations](https://pyfar.readthedocs.io/en/latest/classes/pyfar.orientations.html) from [pyfar.Coordinates](https://pyfar.readthedocs.io/en/latest/classes/pyfar.coordinates.html) object or mixtures of [pyfar.Coordinates](https://pyfar.readthedocs.io/en/latest/classes/pyfar.coordinates.html) objects and array likes. This is equivalent to the example above"
   ]
  },
  {
   "cell_type": "code",
   "execution_count": null,
   "metadata": {},
   "outputs": [],
   "source": [
    "azimuths = np.array([90, 0, 270]) * np.pi / 180\n",
    "views_c = pf.Coordinates.from_spherical_elevation(azimuths, 0, 1)\n",
    "\n",
    "orientations = pf.Orientations.from_view_up(views_c, up)"
   ]
  },
  {
   "cell_type": "markdown",
   "metadata": {},
   "source": [
    "## Retrieving orientations\n",
    "\n",
    "Orientations can be retrieved as view, up, and right-vectors and in any format supported by [scipy.spatial.transform.Rotation](https://docs.scipy.org/doc/scipy/reference/generated/scipy.spatial.transform.Rotation.html). They can also be converted into any coordinate convention supported by pyfar by putting them into a [pyfar.Coordinates](https://pyfar.readthedocs.io/en/latest/classes/pyfar.coordinates.html) object. Lets only check out one way for now "
   ]
  },
  {
   "cell_type": "code",
   "execution_count": null,
   "metadata": {},
   "outputs": [],
   "source": [
    "views, ups, right, = orientations.as_view_up_right()\n",
    "views"
   ]
  },
  {
   "cell_type": "markdown",
   "metadata": {},
   "source": [
    "## Rotating orientations\n",
    "\n",
    "Rotations can be done using the methods inherited from [scipy.spatial.transform.Rotation](https://docs.scipy.org/doc/scipy/reference/generated/scipy.spatial.transform.Rotation.html). You can for example rotate around the y-axis this way"
   ]
  },
  {
   "cell_type": "code",
   "execution_count": null,
   "metadata": {},
   "outputs": [],
   "source": [
    "rotation = pf.Orientations.from_euler('y', 30, degrees=True)\n",
    "orientations_rot = orientations * rotation\n",
    "orientations_rot.show(show_rights=False)\n"
   ]
  },
  {
   "cell_type": "markdown",
   "metadata": {},
   "source": [
    "# License notice\n",
    "This notebook © 2024 by [the pyfar developers](https://github.com/orgs/pyfar/people) is licensed under [CC BY 4.0](http://creativecommons.org/licenses/by/4.0/?ref=chooser-v1)\n",
    "\n",
    "![CC BY Large](https://mirrors.creativecommons.org/presskit/buttons/88x31/svg/by.svg)\n"
   ]
  },
  {
   "cell_type": "markdown",
   "metadata": {},
   "source": [
    "# Watermark"
   ]
  },
  {
   "cell_type": "code",
   "execution_count": null,
   "metadata": {},
   "outputs": [],
   "source": [
    "%load_ext watermark\n",
    "%watermark -v -m -iv"
   ]
  }
 ],
 "metadata": {
  "kernelspec": {
   "display_name": "pyfar",
   "language": "python",
   "name": "python3"
  },
  "language_info": {
   "codemirror_mode": {
    "name": "ipython",
    "version": 3
   },
   "file_extension": ".py",
   "mimetype": "text/x-python",
   "name": "python",
   "nbconvert_exporter": "python",
   "pygments_lexer": "ipython3",
   "version": "3.11.8"
  },
  "vscode": {
   "interpreter": {
    "hash": "31fda18d23bccfca635c34b8e2ae5cca9cc1e70ba24d7dd63263c3d313ebed7d"
   }
  }
 },
 "nbformat": 4,
 "nbformat_minor": 4
}
