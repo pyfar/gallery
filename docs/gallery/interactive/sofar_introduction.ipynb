{
 "cells": [
  {
   "cell_type": "markdown",
   "metadata": {},
   "source": [
    "# sofar and SOFA\n",
    "\n",
    "If you are new to SOFA and/or sofar, this is a good place to start. SOFA is short for *Spatially Oriented Format for Acoustics* and is an open file format for saving acoustic data, such as head-related impulse responses (HRIRs), loudspeaker directivities, or room impulse responses measured with microphone arrays. Good places to get more information about SOFA after this introduction are\n",
    "\n",
    "* The [SOFA paper](https://doi.org/10.17743/jaes.2022.0026)\n",
    "* The documentation of the [SOFA conventions](https://sofar.readthedocs.io/en/stable/resources/conventions.html)\n",
    "* [sofaconventions.org](https://www.sofaconventions.org)\n",
    "* The SOFA standard [AES69-2022](https://www.aes.org/publications/standards/search.cfm?docID=99)\n",
    "\n",
    "A complete documentation of the sofar package is given [here](https://sofar.readthedocs.io)."
   ]
  },
  {
   "cell_type": "markdown",
   "metadata": {},
   "source": [
    "## Creating SOFA objects\n",
    "\n",
    "To cover a variety of data, SOFA offers different *conventions*. A convention defines the data type, the required and optional meta data and the dimensions (shape) of the data and meta data. The data type can be\n",
    "\n",
    "- TF: Transfer Function\n",
    "- IR: Impulse Response\n",
    "- SOS: Second Order Sections, and\n",
    "\n",
    "Examples for meta data are\n",
    "- A license\n",
    "- Contact to the author of a SOFA file\n",
    "- Positions of sources and receivers\n",
    " \n",
    "You should always find the most specific convention for your data. This will help you to identify relevant meta data that you should provide along the actual acoustic data. sofar provides a list of conventions as part of the [online documentation](https://sofar.readthedocs.io/en/stable/resources/conventions.html) and as console output"
   ]
  },
  {
   "cell_type": "code",
   "execution_count": null,
   "metadata": {},
   "outputs": [],
   "source": [
    "import sofar as sf\n",
    "import os\n",
    "\n",
    "sf.list_conventions()"
   ]
  },
  {
   "cell_type": "markdown",
   "metadata": {},
   "source": [
    "You might have noticed that the data type (TF, IR, SOS) is part of the convention name and that it is appended by *-E* in some cases. This stands for *Emitter* and indicates that the convention is used to save data from multiple emitters (loud speakers).\n",
    "\n",
    "Let us assume, that you want to store head-related impulse responses (HRIRs). In this case the most specific convention is *SimpleFreeFieldHRIR*. To create a SOFA object use"
   ]
  },
  {
   "cell_type": "code",
   "execution_count": null,
   "metadata": {},
   "outputs": [],
   "source": [
    "sofa = sf.Sofa('SimpleFreeFieldHRIR')\n",
    "print(sofa)"
   ]
  },
  {
   "cell_type": "markdown",
   "metadata": {},
   "source": [
    "The return value `sofa` is a `sofar.Sofa` object filled with the default values of the *SimpleFreeFieldHRIR* convention. Note that you can also get a sofa object that has only the mandatory attributes by calling `sf.Sofa('SimpleFreeFieldHRIR', mandatory=True)`. However, it is recommended to start with all attributes and discard empty optional attributes before saving the data."
   ]
  },
  {
   "cell_type": "markdown",
   "metadata": {},
   "source": [
    "## Getting information about SOFA objects\n",
    "\n",
    "A first impression of the data can be obtained with"
   ]
  },
  {
   "cell_type": "code",
   "execution_count": null,
   "metadata": {},
   "outputs": [],
   "source": [
    "sofa.inspect()"
   ]
  },
  {
   "cell_type": "markdown",
   "metadata": {},
   "source": [
    "This lists the names of all entries and a brief summary of the content. Lets take a closer look\n",
    "\n",
    "* **Global Attributes** store meta data that describe the whole data stored in a SOFA file. Global attributes start with the keyword *GLOBAL* and are as stored as strings.\n",
    "* **Variables** store numeric (double) or string data. Variables are always arrays. Example for Variables are the *SourcePosition* and *Data_IR*, which stores the actual acoustic data (impulse responses in this case).\n",
    "* **Variable Attributes** store meta data describing a specific *variable* and are stored as stings. Variable attributes start with the name of the variable followed by an underscore and the name of the attribute. For example, *SourcePosition_Type* gives the *Type* of coordinates that are used to store data for the variable *SourcePosition*. An exception to this rule are the data variables, e.g, *Data_SamplingRate* is not an attribute but a double variable.\n",
    "\n",
    "In the case of variables, the SOFA convention also specifies the *dimension* (called shape in numpy) that the data must have. For example *Data_IR* must be of shape $M \\times R \\times N$. In this case, $M=1$ denotes the number of source positions for which HRIRs are available, $R=2$ is the number of ears - which is two - and $N=1$ gives the lengths of the HRIRs in samples.\n",
    "\n",
    "All dimensions can be obtained by"
   ]
  },
  {
   "cell_type": "code",
   "execution_count": null,
   "metadata": {},
   "outputs": [],
   "source": [
    "sofa.list_dimensions"
   ]
  },
  {
   "cell_type": "markdown",
   "metadata": {},
   "source": [
    "For SOFA files, the dimensions are automatically deduced from the data and the output tells us that for example the dimension $R=2$ was deduced from the shape of the variable *ReceiverPosition*. It is thus important to be aware of the dimensions and enter the data accordingly. In some cases, variables can have different shapes. An example for this is the *ReceiverPosition* which can be of shape $R \\times C \\times I$ or $R \\times C \\times M$.\n",
    "\n",
    "The dimension *S* denotes the lengths of the longest string contained in a string variable. *S* is zero in this case, because the convention does not have any string variables. *C* denotes the size of coordinate points and is always three, because coordinates are either given by x, y, and z values or by their azimuth, elevation in degree and radius in meter (cf. [SOFA coordinate systems](https://www.sofaconventions.org/mediawiki/index.php/SOFA_specifications#Coordinate_system)).\n",
    "\n",
    "To get a dimension as a variable, use"
   ]
  },
  {
   "cell_type": "code",
   "execution_count": null,
   "metadata": {},
   "outputs": [],
   "source": [
    "sofa.get_dimension('N')"
   ]
  },
  {
   "cell_type": "markdown",
   "metadata": {},
   "source": [
    "A complete description of each convention is given in the [sofar documentation](https://sofar.readthedocs.io/en/stable/resources/conventions.html). The documentation shows that data can be *mandatory*, *optional*, and *read only*."
   ]
  },
  {
   "cell_type": "markdown",
   "metadata": {},
   "source": [
    "## Getting and adding data to SOFA objects\n",
    "\n",
    "Data can be obtained by simply calling attributes of the Sofa object, e.g."
   ]
  },
  {
   "cell_type": "code",
   "execution_count": null,
   "metadata": {},
   "outputs": [],
   "source": [
    "sofa.Data_IR"
   ]
  },
  {
   "cell_type": "markdown",
   "metadata": {},
   "source": [
    "Note that all variables are stored as [numpy arrays](https://numpy.org/doc/stable/reference/generated/numpy.array.html), which means that you can use [indexing, and slicing](https://numpy.org/doc/stable/user/basics.indexing.html) just like with any other numpy array. For example you can get only the left ear data with"
   ]
  },
  {
   "cell_type": "code",
   "execution_count": null,
   "metadata": {},
   "outputs": [],
   "source": [
    "sofa.Data_IR[:, 0]"
   ]
  },
  {
   "cell_type": "markdown",
   "metadata": {},
   "source": [
    "Data can be added in the same way. The HRIRs and source position can for example be set with"
   ]
  },
  {
   "cell_type": "code",
   "execution_count": null,
   "metadata": {},
   "outputs": [],
   "source": [
    "sofa.Data_IR = [[[1, 0, 0], [0, 0.5, 0]]]\n",
    "sofa.SourcePosition = [90, 0, 1.5]"
   ]
  },
  {
   "cell_type": "markdown",
   "metadata": {},
   "source": [
    "Now, the SOFA object contains a single HRIR - which is `[1, 0, 0]` for the left ear and `[0, 0.5, 0]` for the right ear - for a source at `90` degree azimuth, `0` degree elevation and a radius of `1.5` meter. Note that we entered lists and that sofar automatically converts the lists to numpy arrays. Sofar handles this in two steps:\n",
    "\n",
    "1. When entering data as lists it is converted to a numpy array with at least two dimensions.\n",
    "2. Missing dimensions are appended when writing the SOFA object to disk.\n",
    "\n",
    "Normally, you would continue with filling all mandatory entries of the SOFA object. For this example we'll stop here for the sake of brevity. Let us, however, delete an optional entry that we do not need at this point"
   ]
  },
  {
   "cell_type": "code",
   "execution_count": null,
   "metadata": {},
   "outputs": [],
   "source": [
    "sofa.delete('SourceUp')"
   ]
  },
  {
   "cell_type": "markdown",
   "metadata": {},
   "source": [
    "In some cases you might want to add custom data. Although third party applications most likely won't make use of non-standardized data this can be useful for documentation and research use. Try this\n",
    "to add a temperature value and unit. Note that you have to specify the data type and shape (dimensions) if you are adding SOFA variables"
   ]
  },
  {
   "cell_type": "code",
   "execution_count": null,
   "metadata": {},
   "outputs": [],
   "source": [
    "sofa.add_variable('Temperature', 25.1, 'double', 'MI')\n",
    "sofa.add_attribute('Temperature_Units', 'degree celsius')"
   ]
  },
  {
   "cell_type": "markdown",
   "metadata": {},
   "source": [
    "After entering the data, the SOFA object should be verified to make sure that your data agrees with the SOFA standard and that if it can be read by other applications."
   ]
  },
  {
   "cell_type": "code",
   "execution_count": null,
   "metadata": {},
   "outputs": [],
   "source": [
    "sofa.verify()"
   ]
  },
  {
   "cell_type": "markdown",
   "metadata": {},
   "source": [
    "This will check specific rules determined by the SOFA standard AES69 and general rules such as:\n",
    "\n",
    "- Are all mandatory data contained?\n",
    "- Are the names of variables and attributes in accordance with the SOFA\n",
    "  standard?\n",
    "- Are the data types in accordance with the SOFA standard?\n",
    "- Are the dimensions of the variables consistent and in accordance\n",
    "  to the SOFA standard?\n",
    "- Are the values of attributes consistent and in accordance to the\n",
    "  SOFA standard?\n",
    "\n",
    "If any violations are detected, an error is raised.\n"
   ]
  },
  {
   "cell_type": "markdown",
   "metadata": {},
   "source": [
    "\n",
    "## Reading and writing SOFA objects\n",
    "\n",
    "Note that you usually do not need to call ``sofa.verify()`` separately because it is by default called if you create, write, or read a SOFA object. To write your SOFA object to disk type"
   ]
  },
  {
   "cell_type": "code",
   "execution_count": null,
   "metadata": {},
   "outputs": [],
   "source": [
    "sf.write_sofa(os.path.join('..', '..', 'resources', 'my_first.sofa'), sofa)"
   ]
  },
  {
   "cell_type": "markdown",
   "metadata": {},
   "source": [
    "\n",
    "It is good to know that SOFA files are essentially netCDF4 files which is\n",
    "based on HDF5. They can thus be viewed with [HDF View](https://www.hdfgroup.org/downloads/hdfview/).\n",
    "\n",
    "To read your sofa file you can use"
   ]
  },
  {
   "cell_type": "code",
   "execution_count": null,
   "metadata": {},
   "outputs": [],
   "source": [
    "sofa_read = sf.read_sofa(os.path.join(\n",
    "    '..', '..', 'resources', 'my_first.sofa'))"
   ]
  },
  {
   "cell_type": "markdown",
   "metadata": {},
   "source": [
    "And to see that the written and read files contain the same data you can check"
   ]
  },
  {
   "cell_type": "code",
   "execution_count": null,
   "metadata": {},
   "outputs": [],
   "source": [
    "sf.equals(sofa, sofa_read)"
   ]
  },
  {
   "cell_type": "markdown",
   "metadata": {},
   "source": [
    "### Upgrading SOFA files\n",
    "\n",
    "SOFA conventions might get updates to fix bugs in the conventions, in case new conventions are introduced, or in case conventions get deprecated. To find out if SOFA file is up to date, call `upgrade_convention` to get a list of upgrade choices or the information that the data is up to date."
   ]
  },
  {
   "cell_type": "code",
   "execution_count": null,
   "metadata": {},
   "outputs": [],
   "source": [
    "sofa.upgrade_convention()"
   ]
  },
  {
   "cell_type": "markdown",
   "metadata": {},
   "source": [
    "### Next steps\n",
    "\n",
    "For detailed information about sofar please refer to the [sofar documentation](https://sofar.readthedocs.io). You might also be interested in `LINK-TO-PYFAR-INTRODUCTION`"
   ]
  },
  {
   "cell_type": "markdown",
   "metadata": {},
   "source": [
    "# License notice\n",
    "This notebook © 2024 by [the pyfar developers](https://github.com/orgs/pyfar/people) is licensed under [CC BY 4.0](http://creativecommons.org/licenses/by/4.0/?ref=chooser-v1)\n",
    "\n",
    "![CC BY Large](https://mirrors.creativecommons.org/presskit/buttons/88x31/svg/by.svg)\n"
   ]
  },
  {
   "cell_type": "markdown",
   "metadata": {},
   "source": [
    "# Watermark"
   ]
  },
  {
   "cell_type": "code",
   "execution_count": null,
   "metadata": {},
   "outputs": [],
   "source": [
    "%load_ext watermark\n",
    "%watermark -v -m -iv"
   ]
  }
 ],
 "metadata": {
  "kernelspec": {
   "display_name": "sofar",
   "language": "python",
   "name": "python3"
  },
  "language_info": {
   "codemirror_mode": {
    "name": "ipython",
    "version": 3
   },
   "file_extension": ".py",
   "mimetype": "text/x-python",
   "name": "python",
   "nbconvert_exporter": "python",
   "pygments_lexer": "ipython3",
   "version": "3.11.7"
  }
 },
 "nbformat": 4,
 "nbformat_minor": 2
}
