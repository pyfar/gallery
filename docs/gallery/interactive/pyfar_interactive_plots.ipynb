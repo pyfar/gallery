{
 "cells": [
  {
   "cell_type": "markdown",
   "metadata": {},
   "source": [
    "# Interactive plots\n",
    "\n",
    "pyfar provides convenient **interactive keyboard shortcuts**.\n",
    "These allow switching plots, zooming in and out, moving along the x and y-axis, and zooming and moving the range of colormaps.\n",
    "\n",
    "To do this, you need to use an interactive matplotlib backend.\n",
    "For jupyter notebooks one can for example use the matplotlib magic `%matplotlib ipympl`.\n",
    "\n",
    "The available keyboard shortcuts can be queried using\n",
    "```python\n",
    "print(pf.plot.shortcuts())\n",
    "```\n",
    "or in the [online documentation](https://pyfar.readthedocs.io/en/stable/modules/pyfar.plot.html#pyfar.plot.shortcuts).\n",
    "\n",
    "A great use-case for the interactive features is the inspection of a multichannel signal like a head-related impulse responses (HRIR) dataset.\n",
    "pyfar includes a [HRIR dataset](https://pyfar.readthedocs.io/en/stable/modules/pyfar.signals.files.html#pyfar.signals.files.head_related_impulse_responses), which we will use in this notebook.\n",
    "In the following plot you can use `,`/`.` (DE keyboard layouts) or `[` and `]` (EN keyboard layouts) to cycle through the channels inside the plot.\n",
    "Using `Shift + a` can be used to toggle between showing all lines again and a single line.\n",
    "Pressing `Shift + f` will switch to a frequency domain plot, `Shift + t` will switch back to the time domain.\n",
    "\n",
    "<div class=\"alert alert-warning\">\n",
    "Warning\n",
    "\n",
    "**<span style=\"color:red; font-size:1.3em;\">Please note, that this will only work in an interactive notebook environment such as binder. You can use the link at the top of the page.</span>**\n",
    "</div>"
   ]
  },
  {
   "cell_type": "code",
   "execution_count": null,
   "metadata": {},
   "outputs": [],
   "source": [
    "import pyfar as pf\n",
    "import matplotlib.pyplot as plt\n",
    "\n",
    "# set an interactive backend for matplotlib\n",
    "%matplotlib ipympl\n",
    "\n",
    "# load an example HRIR dataset on the horizontal plane\n",
    "hrirs, sources = pf.signals.files.head_related_impulse_responses(position='horizontal')\n",
    "\n",
    "pf.plot.use()\n",
    "plt.figure()\n",
    "pf.plot.time(hrirs)\n",
    "plt.show()"
   ]
  },
  {
   "cell_type": "markdown",
   "metadata": {},
   "source": [
    "# License notice\n",
    "This notebook © 2024 by [the pyfar developers](https://github.com/orgs/pyfar/people) is licensed under [CC BY 4.0](http://creativecommons.org/licenses/by/4.0/?ref=chooser-v1)\n",
    "\n",
    "![CC BY Large](../../resources/cc-by.svg)\n"
   ]
  },
  {
   "cell_type": "markdown",
   "metadata": {},
   "source": [
    "# Watermark"
   ]
  }
 ],
 "metadata": {
  "language_info": {
   "name": "python"
  }
 },
 "nbformat": 4,
 "nbformat_minor": 2
}
